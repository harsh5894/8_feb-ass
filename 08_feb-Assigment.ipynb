{
 "cells": [
  {
   "cell_type": "code",
   "execution_count": 2,
   "id": "844cb3ed-a1f6-4ae2-876c-ec4b038cc316",
   "metadata": {},
   "outputs": [
    {
     "name": "stdout",
     "output_type": "stream",
     "text": [
      "Woof!\n",
      "Meow!\n"
     ]
    }
   ],
   "source": [
    "# Q1. What is Abstraction in OOps? Explain with an example.\n",
    "#Ans :- In object-oriented programming (OOP), abstraction is the process of hiding the complex implementation details and showing only\n",
    "#       the necessary features of an object. It allows you to focus on what an object does instead of how it does it.\n",
    "class Animal:\n",
    "    def speak(self):\n",
    "        raise NotImplementedError(\"Subclass must implement abstract method\")\n",
    "\n",
    "class Dog(Animal):\n",
    "    def speak(self):\n",
    "        return \"Woof!\"\n",
    "\n",
    "class Cat(Animal):\n",
    "    def speak(self):\n",
    "        return \"Meow!\"\n",
    "\n",
    "# Usage\n",
    "dog = Dog()\n",
    "cat = Cat()\n",
    "\n",
    "print(dog.speak())  \n",
    "print(cat.speak())  \n"
   ]
  },
  {
   "cell_type": "code",
   "execution_count": 3,
   "id": "85f1a7fd-dc5a-4593-92aa-e2caed6f651e",
   "metadata": {},
   "outputs": [],
   "source": [
    "# Q2. Differentiate between Abstraction and Encapsulation. Explain with an example.\n",
    "# Ans :- Abstraction:\n",
    "\n",
    "#     i. Abstraction is the process of hiding the complex implementation details and showing only the necessary features of an object.\n",
    "#    ii. It focuses on what an object does rather than how it does it.\n",
    "#   iii. Example: In a car, the driver interacts with the steering wheel, pedals, and gear stick,\n",
    "#                 without needing to understand the internal combustion engine or transmission system.\n",
    "#       Encapsulation:\n",
    "\n",
    "#     i. Encapsulation is the bundling of data (attributes) and methods (functions) that operate on the data into a single unit (class).\n",
    "#    ii. It restricts direct access to some of an object's components, which helps prevent accidental modification of data.\n",
    "#   iii. Example: In a class representing a bank account, the account balance should be encapsulated and accessed\n",
    "#                 only through methods like 'deposit' and 'withdraw'."
   ]
  },
  {
   "cell_type": "code",
   "execution_count": 5,
   "id": "76f2d199-64d6-4fe9-8e56-cef52eedc4b4",
   "metadata": {},
   "outputs": [
    {
     "name": "stdout",
     "output_type": "stream",
     "text": [
      "25\n",
      "28.27431\n"
     ]
    }
   ],
   "source": [
    "# Q3. What is abc module in python? Why is it used?\n",
    "\n",
    "# Ans :- The 'abc' module in Python stands for Abstract Base Classes. It provides a way to define abstract base classes, \n",
    "#        which are classes that cannot be instantiated themselves but can define methods that must be implemented by concrete subclasses.\n",
    "\n",
    "#        The main used of the abc module is to enforce a certain structure or interface in subclasses.\n",
    "#        It allows you to define a common API that multiple classes should adhere to, ensuring consistency and maintainability in your code.\n",
    "from abc import ABC, abstractmethod\n",
    "\n",
    "class Shape(ABC):\n",
    "    @abstractmethod\n",
    "    def area(self):\n",
    "        pass\n",
    "\n",
    "class Square(Shape):\n",
    "    def __init__(self, side_length):\n",
    "        self.side_length = side_length\n",
    "\n",
    "    def area(self):\n",
    "        return self.side_length ** 2\n",
    "\n",
    "class Circle(Shape):\n",
    "    def __init__(self, radius):\n",
    "        self.radius = radius\n",
    "\n",
    "    def area(self):\n",
    "        return 3.14159 * self.radius ** 2\n",
    "\n",
    "# Usage\n",
    "# shape = Shape()  # This would raise an error, as Shape is an abstract class\n",
    "square = Square(5)\n",
    "circle = Circle(3)\n",
    "\n",
    "print(square.area())  \n",
    "print(circle.area())  \n"
   ]
  },
  {
   "cell_type": "code",
   "execution_count": 7,
   "id": "ee031e58-526d-488e-a175-6fbfa9c572b6",
   "metadata": {},
   "outputs": [
    {
     "name": "stdout",
     "output_type": "stream",
     "text": [
      "Circle Area: 78.5\n",
      "Circle Perimeter: 31.400000000000002\n",
      "Square Area: 16\n",
      "Square Perimeter: 16\n"
     ]
    }
   ],
   "source": [
    "# Q4. How can we achieve data abstraction?\n",
    "\n",
    "# Ans :- Data abstraction in Python can be achieved using classes and interfaces. \n",
    "#        Here's a simple example demonstrating data abstraction:\n",
    "from abc import ABC, abstractmethod\n",
    "\n",
    "# Abstract class\n",
    "class Shape(ABC):\n",
    "    @abstractmethod\n",
    "    def area(self):\n",
    "        pass\n",
    "\n",
    "    @abstractmethod\n",
    "    def perimeter(self):\n",
    "        pass\n",
    "\n",
    "# Concrete classes\n",
    "class Circle(Shape):\n",
    "    def __init__(self, radius):\n",
    "        self.radius = radius\n",
    "\n",
    "    def area(self):\n",
    "        return 3.14 * self.radius ** 2\n",
    "\n",
    "    def perimeter(self):\n",
    "        return 2 * 3.14 * self.radius\n",
    "\n",
    "class Square(Shape):\n",
    "    def __init__(self, side_length):\n",
    "        self.side_length = side_length\n",
    "\n",
    "    def area(self):\n",
    "        return self.side_length ** 2\n",
    "\n",
    "    def perimeter(self):\n",
    "        return 4 * self.side_length\n",
    "\n",
    "# Usage\n",
    "circle = Circle(5)\n",
    "square = Square(4)\n",
    "\n",
    "print(\"Circle Area:\", circle.area())  \n",
    "print(\"Circle Perimeter:\", circle.perimeter()) \n",
    "print(\"Square Area:\", square.area())  \n",
    "print(\"Square Perimeter:\", square.perimeter())  \n"
   ]
  },
  {
   "cell_type": "code",
   "execution_count": null,
   "id": "dec25378-1a6f-49fc-851e-c6a2f2a283cc",
   "metadata": {},
   "outputs": [],
   "source": [
    "# Q5. Can we create an instance of an abstract class? Explain your answer.\n",
    "# Ans :- No, you cannot create an instance of an abstract class in Python. \n",
    "#        Abstract classes are meant to be used as base classes for other classes to inherit from.\n",
    "#        They contain one or more abstract methods, which are declared but not implemented in the abstract class. The purpose of an\n",
    "#        abstract class is to define a common interface for its subclasses.\n",
    "#        Attempting to create an instance of an abstract class directly will raise a TypeError. Abstract classes are designed \n",
    "#        to be used as base classes, and you are expected to create instances of concrete subclasses that implement the abstract methods."
   ]
  }
 ],
 "metadata": {
  "kernelspec": {
   "display_name": "Python 3 (ipykernel)",
   "language": "python",
   "name": "python3"
  },
  "language_info": {
   "codemirror_mode": {
    "name": "ipython",
    "version": 3
   },
   "file_extension": ".py",
   "mimetype": "text/x-python",
   "name": "python",
   "nbconvert_exporter": "python",
   "pygments_lexer": "ipython3",
   "version": "3.10.8"
  }
 },
 "nbformat": 4,
 "nbformat_minor": 5
}
